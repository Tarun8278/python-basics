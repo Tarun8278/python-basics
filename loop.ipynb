{
 "cells": [
  {
   "cell_type": "code",
   "execution_count": 1,
   "id": "35bce197-c372-4bf3-b8ef-0a5a7b42d0f9",
   "metadata": {},
   "outputs": [],
   "source": [
    "#loop statement >> it always you to execute a block of code repeatedly\n",
    "#while loops and for Loops"
   ]
  },
  {
   "cell_type": "code",
   "execution_count": 2,
   "id": "a2740a1f-4b9a-400c-8460-622392f51c16",
   "metadata": {},
   "outputs": [],
   "source": [
    "#while>> repeatdly execute a block of code untill a condition is met\n"
   ]
  },
  {
   "cell_type": "code",
   "execution_count": 3,
   "id": "bb9bf87d-9df8-4b44-9bd6-48e62fea9965",
   "metadata": {},
   "outputs": [],
   "source": [
    "#syntax\n",
    "#while >> while is keyword used for while loop\n"
   ]
  },
  {
   "cell_type": "code",
   "execution_count": null,
   "id": "8b4b3a02-4fc7-4787-b8ea-42a1b295be0c",
   "metadata": {},
   "outputs": [],
   "source": [
    "i = 1\n",
    "n = 7\n",
    "while i<n:\n",
    "    print(i)\n",
    "    i = i + 1"
   ]
  },
  {
   "cell_type": "code",
   "execution_count": 40,
   "id": "b2cbe1e9-5ef0-4615-a14d-74322ebd4b29",
   "metadata": {},
   "outputs": [
    {
     "name": "stdout",
     "output_type": "stream",
     "text": [
      "1 2 3 4 5 6 "
     ]
    }
   ],
   "source": [
    "i = 1\n",
    "n = 7\n",
    "while i<n:\n",
    "    print (i, end=\" \")\n",
    "    i = i+1"
   ]
  },
  {
   "cell_type": "code",
   "execution_count": 33,
   "id": "abc4dce8-0ebd-4ba0-a247-1aa1f96044d2",
   "metadata": {},
   "outputs": [
    {
     "name": "stdin",
     "output_type": "stream",
     "text": [
      "enter a no 5\n"
     ]
    },
    {
     "name": "stdout",
     "output_type": "stream",
     "text": [
      "5  *  1  =  5\n",
      "5  *  2  =  10\n",
      "5  *  3  =  15\n",
      "5  *  4  =  20\n",
      "5  *  5  =  25\n",
      "5  *  6  =  30\n",
      "5  *  7  =  35\n",
      "5  *  8  =  40\n",
      "5  *  9  =  45\n",
      "5  *  10  =  50\n"
     ]
    }
   ],
   "source": [
    "#program to print table\n",
    "a = (input('enter a no'))\n",
    "for i in range (1,11):\n",
    "    print (a, \" * \" ,i,\" = \",a *i)"
   ]
  },
  {
   "cell_type": "code",
   "execution_count": 42,
   "id": "92cc0406-5b74-45a0-9ee9-4441c67db94d",
   "metadata": {},
   "outputs": [
    {
     "data": {
      "text/plain": [
       "[0, 2, 4, 6, 8]"
      ]
     },
     "execution_count": 42,
     "metadata": {},
     "output_type": "execute_result"
    }
   ],
   "source": [
    "list(range(0, 10, 2))"
   ]
  },
  {
   "cell_type": "code",
   "execution_count": 2,
   "id": "7d5e3730-381b-45bd-9e76-06dbf6092904",
   "metadata": {},
   "outputs": [
    {
     "name": "stdout",
     "output_type": "stream",
     "text": [
      "11\n"
     ]
    }
   ],
   "source": [
    "a = 3 + 4 * 2\n",
    "print (a)"
   ]
  },
  {
   "cell_type": "code",
   "execution_count": null,
   "id": "38fd33b0-217c-4756-a0c1-e38fdccc18cf",
   "metadata": {},
   "outputs": [],
   "source": [
    "a = 3\n",
    "b = 4 \n",
    "c = 2 \n",
    "if "
   ]
  },
  {
   "cell_type": "code",
   "execution_count": 3,
   "id": "14d3bc73-fc27-4495-b668-071780d46f04",
   "metadata": {},
   "outputs": [
    {
     "ename": "SyntaxError",
     "evalue": "Missing parentheses in call to 'print'. Did you mean print(...)? (593874512.py, line 2)",
     "output_type": "error",
     "traceback": [
      "\u001b[1;36m  Cell \u001b[1;32mIn[3], line 2\u001b[1;36m\u001b[0m\n\u001b[1;33m    print f\"Hello, {name}!\"\u001b[0m\n\u001b[1;37m    ^\u001b[0m\n\u001b[1;31mSyntaxError\u001b[0m\u001b[1;31m:\u001b[0m Missing parentheses in call to 'print'. Did you mean print(...)?\n"
     ]
    }
   ],
   "source": [
    "def greet(name):\n",
    "    print f\"Hello, {name}!\""
   ]
  },
  {
   "cell_type": "code",
   "execution_count": 12,
   "id": "9dfd2de7-9d24-41d9-b7d5-9129266c4fe7",
   "metadata": {},
   "outputs": [
    {
     "name": "stdout",
     "output_type": "stream",
     "text": [
      "The average is: 505.0\n"
     ]
    }
   ],
   "source": [
    "def calculate_average(numbers):\n",
    "    if not numbers:  # Check if the list is empty\n",
    "        return 0\n",
    "    \n",
    "    total = sum(numbers)\n",
    "    average = total / len(numbers)\n",
    "    return average\n",
    "\n",
    "numbers = [10,1000]\n",
    "average = calculate_average(numbers)\n",
    "print(f\"The average is: {average}\")\n"
   ]
  },
  {
   "cell_type": "code",
   "execution_count": null,
   "id": "eff43efa-60cd-4acc-ae79-c273a02ecbb2",
   "metadata": {},
   "outputs": [],
   "source": []
  }
 ],
 "metadata": {
  "kernelspec": {
   "display_name": "Python 3 (ipykernel)",
   "language": "python",
   "name": "python3"
  },
  "language_info": {
   "codemirror_mode": {
    "name": "ipython",
    "version": 3
   },
   "file_extension": ".py",
   "mimetype": "text/x-python",
   "name": "python",
   "nbconvert_exporter": "python",
   "pygments_lexer": "ipython3",
   "version": "3.12.7"
  }
 },
 "nbformat": 4,
 "nbformat_minor": 5
}
