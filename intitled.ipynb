{
 "cells": [
  {
   "cell_type": "code",
   "execution_count": 1,
   "id": "f52c17da-3d44-4dee-94bc-22c644604183",
   "metadata": {},
   "outputs": [],
   "source": [
    "A = \"ajay\""
   ]
  },
  {
   "cell_type": "code",
   "execution_count": 2,
   "id": "feab7fea-344e-4659-b1c4-060e820a94e8",
   "metadata": {},
   "outputs": [
    {
     "data": {
      "text/plain": [
       "'ajay'"
      ]
     },
     "execution_count": 2,
     "metadata": {},
     "output_type": "execute_result"
    }
   ],
   "source": [
    "A"
   ]
  },
  {
   "cell_type": "code",
   "execution_count": 3,
   "id": "39c7a33e-1425-466c-9817-31b9ae30683e",
   "metadata": {},
   "outputs": [],
   "source": [
    "a = 10"
   ]
  },
  {
   "cell_type": "code",
   "execution_count": 4,
   "id": "77a65b17-1562-4b90-8c54-52e0ac21cd9a",
   "metadata": {},
   "outputs": [],
   "source": [
    "b = 15"
   ]
  },
  {
   "cell_type": "code",
   "execution_count": 5,
   "id": "cd01aa37-9c34-45c8-a7a0-6d91f7cab7d1",
   "metadata": {},
   "outputs": [],
   "source": [
    "c = 25"
   ]
  },
  {
   "cell_type": "code",
   "execution_count": 6,
   "id": "a2e4b431-dd6c-4c98-a792-201b642de4cb",
   "metadata": {},
   "outputs": [
    {
     "data": {
      "text/plain": [
       "50"
      ]
     },
     "execution_count": 6,
     "metadata": {},
     "output_type": "execute_result"
    }
   ],
   "source": [
    "a+b+c"
   ]
  },
  {
   "cell_type": "code",
   "execution_count": 1,
   "id": "8db7dae7-90d7-4662-807c-ae086b8614e2",
   "metadata": {},
   "outputs": [
    {
     "ename": "NameError",
     "evalue": "name 'true' is not defined",
     "output_type": "error",
     "traceback": [
      "\u001b[1;31m---------------------------------------------------------------------------\u001b[0m",
      "\u001b[1;31mNameError\u001b[0m                                 Traceback (most recent call last)",
      "Cell \u001b[1;32mIn[1], line 1\u001b[0m\n\u001b[1;32m----> 1\u001b[0m \u001b[43mtrue\u001b[49m \u001b[38;5;129;01mand\u001b[39;00m false\n",
      "\u001b[1;31mNameError\u001b[0m: name 'true' is not defined"
     ]
    }
   ],
   "source": [
    "true and false"
   ]
  },
  {
   "cell_type": "code",
   "execution_count": 2,
   "id": "5a94cf31-c3bc-41f2-b7e6-74dd99b211c6",
   "metadata": {},
   "outputs": [
    {
     "ename": "SyntaxError",
     "evalue": "invalid syntax (8003339.py, line 1)",
     "output_type": "error",
     "traceback": [
      "\u001b[1;36m  Cell \u001b[1;32mIn[2], line 1\u001b[1;36m\u001b[0m\n\u001b[1;33m    valu \"true\"\u001b[0m\n\u001b[1;37m         ^\u001b[0m\n\u001b[1;31mSyntaxError\u001b[0m\u001b[1;31m:\u001b[0m invalid syntax\n"
     ]
    }
   ],
   "source": [
    "valu \"true\""
   ]
  },
  {
   "cell_type": "code",
   "execution_count": 3,
   "id": "bbbce931-5e9c-48f1-816e-a1db44581ffe",
   "metadata": {},
   "outputs": [
    {
     "data": {
      "text/plain": [
       "True"
      ]
     },
     "execution_count": 3,
     "metadata": {},
     "output_type": "execute_result"
    }
   ],
   "source": [
    "2==2"
   ]
  },
  {
   "cell_type": "code",
   "execution_count": 4,
   "id": "d718eaf9-9a66-4174-96e0-49f10b3fc5ba",
   "metadata": {},
   "outputs": [
    {
     "data": {
      "text/plain": [
       "False"
      ]
     },
     "execution_count": 4,
     "metadata": {},
     "output_type": "execute_result"
    }
   ],
   "source": [
    "4==2"
   ]
  },
  {
   "cell_type": "code",
   "execution_count": 5,
   "id": "eda9048f-65dc-4133-a243-7b887ae70601",
   "metadata": {},
   "outputs": [
    {
     "data": {
      "text/plain": [
       "False"
      ]
     },
     "execution_count": 5,
     "metadata": {},
     "output_type": "execute_result"
    }
   ],
   "source": [
    "2==4"
   ]
  },
  {
   "cell_type": "code",
   "execution_count": 3,
   "id": "8855a1ee-7bba-400a-838d-190fa64f4d84",
   "metadata": {},
   "outputs": [
    {
     "data": {
      "text/plain": [
       "True"
      ]
     },
     "execution_count": 3,
     "metadata": {},
     "output_type": "execute_result"
    }
   ],
   "source": [
    "True and True"
   ]
  },
  {
   "cell_type": "code",
   "execution_count": 2,
   "id": "cca73bd8-1c6a-43db-820d-19c9521ac46a",
   "metadata": {},
   "outputs": [
    {
     "ename": "SyntaxError",
     "evalue": "invalid syntax (1272589868.py, line 1)",
     "output_type": "error",
     "traceback": [
      "\u001b[1;36m  Cell \u001b[1;32mIn[2], line 1\u001b[1;36m\u001b[0m\n\u001b[1;33m    True value \"1\"\u001b[0m\n\u001b[1;37m         ^\u001b[0m\n\u001b[1;31mSyntaxError\u001b[0m\u001b[1;31m:\u001b[0m invalid syntax\n"
     ]
    }
   ],
   "source": [
    "True value \"1\""
   ]
  },
  {
   "cell_type": "code",
   "execution_count": 1,
   "id": "3f8e444d-52cb-4566-8490-42ca2d6fec10",
   "metadata": {},
   "outputs": [
    {
     "data": {
      "text/plain": [
       "1"
      ]
     },
     "execution_count": 1,
     "metadata": {},
     "output_type": "execute_result"
    }
   ],
   "source": [
    "True-False"
   ]
  },
  {
   "cell_type": "code",
   "execution_count": 9,
   "id": "b5dfa617-480e-42e0-aed6-7a682f8e1750",
   "metadata": {},
   "outputs": [],
   "source": [
    "a = 10"
   ]
  },
  {
   "cell_type": "code",
   "execution_count": 10,
   "id": "a00c6770-0ed7-4466-b564-29cd095d0099",
   "metadata": {},
   "outputs": [
    {
     "data": {
      "text/plain": [
       "10"
      ]
     },
     "execution_count": 10,
     "metadata": {},
     "output_type": "execute_result"
    }
   ],
   "source": [
    "a"
   ]
  },
  {
   "cell_type": "code",
   "execution_count": 11,
   "id": "190fc70a-4355-44ed-bfa6-ca804bfc2b93",
   "metadata": {},
   "outputs": [
    {
     "data": {
      "text/plain": [
       "15"
      ]
     },
     "execution_count": 11,
     "metadata": {},
     "output_type": "execute_result"
    }
   ],
   "source": [
    "a + 5"
   ]
  },
  {
   "cell_type": "code",
   "execution_count": 12,
   "id": "d4b33909-380e-48de-a9d0-8c24926ffc22",
   "metadata": {},
   "outputs": [
    {
     "data": {
      "text/plain": [
       "12"
      ]
     },
     "execution_count": 12,
     "metadata": {},
     "output_type": "execute_result"
    }
   ],
   "source": [
    "b = 12\n",
    "b"
   ]
  },
  {
   "cell_type": "code",
   "execution_count": 13,
   "id": "d390c3d2-e5a7-4d34-91a6-9ca225062639",
   "metadata": {},
   "outputs": [
    {
     "data": {
      "text/plain": [
       "22"
      ]
     },
     "execution_count": 13,
     "metadata": {},
     "output_type": "execute_result"
    }
   ],
   "source": [
    "a+b"
   ]
  },
  {
   "cell_type": "code",
   "execution_count": 14,
   "id": "c796f12c-7cb6-4e3d-a185-dc6c0f34bbf2",
   "metadata": {},
   "outputs": [
    {
     "data": {
      "text/plain": [
       "30"
      ]
     },
     "execution_count": 14,
     "metadata": {},
     "output_type": "execute_result"
    }
   ],
   "source": [
    "a+b+8"
   ]
  },
  {
   "cell_type": "code",
   "execution_count": 15,
   "id": "8613a937-6e3a-4b35-8642-9f6770ad8ace",
   "metadata": {},
   "outputs": [],
   "source": [
    "a = 2\n",
    "b = 2"
   ]
  },
  {
   "cell_type": "code",
   "execution_count": 16,
   "id": "1c9d4240-8bd2-4183-bdc6-bed5219a4311",
   "metadata": {},
   "outputs": [
    {
     "data": {
      "text/plain": [
       "True"
      ]
     },
     "execution_count": 16,
     "metadata": {},
     "output_type": "execute_result"
    }
   ],
   "source": [
    "a is b"
   ]
  },
  {
   "cell_type": "code",
   "execution_count": 1,
   "id": "f80737eb-ce33-47a0-aaa3-efe3d2c8c59b",
   "metadata": {},
   "outputs": [
    {
     "data": {
      "text/plain": [
       "'0b101'"
      ]
     },
     "execution_count": 1,
     "metadata": {},
     "output_type": "execute_result"
    }
   ],
   "source": [
    "bin (5)"
   ]
  },
  {
   "cell_type": "code",
   "execution_count": 2,
   "id": "6351aa66-c925-44c4-9ed5-9250614dc158",
   "metadata": {},
   "outputs": [
    {
     "data": {
      "text/plain": [
       "'0b100011'"
      ]
     },
     "execution_count": 2,
     "metadata": {},
     "output_type": "execute_result"
    }
   ],
   "source": [
    "bin (35)"
   ]
  },
  {
   "cell_type": "code",
   "execution_count": 3,
   "id": "c8b4cf0b-d874-47eb-a236-a9f176f17222",
   "metadata": {},
   "outputs": [
    {
     "data": {
      "text/plain": [
       "280"
      ]
     },
     "execution_count": 3,
     "metadata": {},
     "output_type": "execute_result"
    }
   ],
   "source": [
    "35 << 3"
   ]
  },
  {
   "cell_type": "code",
   "execution_count": 4,
   "id": "4b6cbf4a-18d4-4815-94f5-90072f56241a",
   "metadata": {},
   "outputs": [
    {
     "data": {
      "text/plain": [
       "'0b100011000'"
      ]
     },
     "execution_count": 4,
     "metadata": {},
     "output_type": "execute_result"
    }
   ],
   "source": [
    "bin (280)"
   ]
  },
  {
   "cell_type": "code",
   "execution_count": 5,
   "id": "da2b51cf-7b3a-4e36-8668-664159b64e2f",
   "metadata": {},
   "outputs": [
    {
     "data": {
      "text/plain": [
       "11"
      ]
     },
     "execution_count": 5,
     "metadata": {},
     "output_type": "execute_result"
    }
   ],
   "source": [
    "4-3+10"
   ]
  },
  {
   "cell_type": "code",
   "execution_count": 6,
   "id": "effb01d5-4ad1-4065-8145-4d32cee6ce96",
   "metadata": {},
   "outputs": [
    {
     "data": {
      "text/plain": [
       "70.0"
      ]
     },
     "execution_count": 6,
     "metadata": {},
     "output_type": "execute_result"
    }
   ],
   "source": [
    "350/5"
   ]
  },
  {
   "cell_type": "code",
   "execution_count": 7,
   "id": "7383110d-c2c4-4554-9e54-9cda6f0036d2",
   "metadata": {},
   "outputs": [
    {
     "ename": "NameError",
     "evalue": "name 'tarun' is not defined",
     "output_type": "error",
     "traceback": [
      "\u001b[1;31m---------------------------------------------------------------------------\u001b[0m",
      "\u001b[1;31mNameError\u001b[0m                                 Traceback (most recent call last)",
      "Cell \u001b[1;32mIn[7], line 1\u001b[0m\n\u001b[1;32m----> 1\u001b[0m \u001b[38;5;28mbool\u001b[39m (\u001b[43mtarun\u001b[49m)\n",
      "\u001b[1;31mNameError\u001b[0m: name 'tarun' is not defined"
     ]
    }
   ],
   "source": [
    "bool (tarun)"
   ]
  },
  {
   "cell_type": "code",
   "execution_count": 8,
   "id": "953a8024-f4d0-45fb-bdc0-2489f948fd50",
   "metadata": {},
   "outputs": [
    {
     "ename": "NameError",
     "evalue": "name 'true' is not defined",
     "output_type": "error",
     "traceback": [
      "\u001b[1;31m---------------------------------------------------------------------------\u001b[0m",
      "\u001b[1;31mNameError\u001b[0m                                 Traceback (most recent call last)",
      "Cell \u001b[1;32mIn[8], line 1\u001b[0m\n\u001b[1;32m----> 1\u001b[0m \u001b[43mtrue\u001b[49m\u001b[38;5;241m-\u001b[39mfalse\n",
      "\u001b[1;31mNameError\u001b[0m: name 'true' is not defined"
     ]
    }
   ],
   "source": [
    "true-false"
   ]
  },
  {
   "cell_type": "code",
   "execution_count": 10,
   "id": "3891d678-9d32-4c21-b5bd-51a204a82d47",
   "metadata": {},
   "outputs": [
    {
     "ename": "SyntaxError",
     "evalue": "unterminated string literal (detected at line 1) (3208627959.py, line 1)",
     "output_type": "error",
     "traceback": [
      "\u001b[1;36m  Cell \u001b[1;32mIn[10], line 1\u001b[1;36m\u001b[0m\n\u001b[1;33m    \"true - false\u001b[0m\n\u001b[1;37m    ^\u001b[0m\n\u001b[1;31mSyntaxError\u001b[0m\u001b[1;31m:\u001b[0m unterminated string literal (detected at line 1)\n"
     ]
    }
   ],
   "source": [
    "\"true - false"
   ]
  },
  {
   "cell_type": "code",
   "execution_count": 11,
   "id": "6a87414d-1f24-4009-9c3e-fb75f4d65ae5",
   "metadata": {},
   "outputs": [
    {
     "data": {
      "text/plain": [
       "'0b110010'"
      ]
     },
     "execution_count": 11,
     "metadata": {},
     "output_type": "execute_result"
    }
   ],
   "source": [
    "bin (50)"
   ]
  },
  {
   "cell_type": "code",
   "execution_count": 12,
   "id": "1925ae43-b060-41d5-b93e-03c2968cbf9e",
   "metadata": {},
   "outputs": [
    {
     "data": {
      "text/plain": [
       "1"
      ]
     },
     "execution_count": 12,
     "metadata": {},
     "output_type": "execute_result"
    }
   ],
   "source": [
    "36>>5"
   ]
  },
  {
   "cell_type": "code",
   "execution_count": 13,
   "id": "8677a8a9-766f-41c4-84f6-6cf96cda4ff3",
   "metadata": {},
   "outputs": [
    {
     "data": {
      "text/plain": [
       "'0b1'"
      ]
     },
     "execution_count": 13,
     "metadata": {},
     "output_type": "execute_result"
    }
   ],
   "source": [
    "bin (1)"
   ]
  },
  {
   "cell_type": "code",
   "execution_count": 14,
   "id": "3b249010-ca8b-448e-ba18-f0749768b637",
   "metadata": {},
   "outputs": [
    {
     "data": {
      "text/plain": [
       "1152"
      ]
     },
     "execution_count": 14,
     "metadata": {},
     "output_type": "execute_result"
    }
   ],
   "source": [
    "36<<5"
   ]
  },
  {
   "cell_type": "code",
   "execution_count": 15,
   "id": "50819868-afb3-49cd-93a2-387b82666446",
   "metadata": {},
   "outputs": [
    {
     "data": {
      "text/plain": [
       "'0b10010000000'"
      ]
     },
     "execution_count": 15,
     "metadata": {},
     "output_type": "execute_result"
    }
   ],
   "source": [
    "bin (1152)"
   ]
  },
  {
   "cell_type": "code",
   "execution_count": 16,
   "id": "317c6b90-ebca-4593-ac53-0eefeb366c68",
   "metadata": {},
   "outputs": [
    {
     "data": {
      "text/plain": [
       "280"
      ]
     },
     "execution_count": 16,
     "metadata": {},
     "output_type": "execute_result"
    }
   ],
   "source": [
    "35<<3"
   ]
  },
  {
   "cell_type": "code",
   "execution_count": 17,
   "id": "bcc26558-bc3c-4b4f-8065-bff7dd78b2cf",
   "metadata": {},
   "outputs": [
    {
     "data": {
      "text/plain": [
       "4"
      ]
     },
     "execution_count": 17,
     "metadata": {},
     "output_type": "execute_result"
    }
   ],
   "source": [
    "35>>3"
   ]
  },
  {
   "cell_type": "code",
   "execution_count": 18,
   "id": "83a8ce84-57b1-4bf0-8b8f-3be65f91b641",
   "metadata": {},
   "outputs": [
    {
     "data": {
      "text/plain": [
       "36"
      ]
     },
     "execution_count": 18,
     "metadata": {},
     "output_type": "execute_result"
    }
   ],
   "source": [
    "1152>>5"
   ]
  },
  {
   "cell_type": "code",
   "execution_count": 19,
   "id": "a7ee6fba-d6b9-4208-a2cd-f42d15a3299e",
   "metadata": {},
   "outputs": [
    {
     "data": {
      "text/plain": [
       "'0b100'"
      ]
     },
     "execution_count": 19,
     "metadata": {},
     "output_type": "execute_result"
    }
   ],
   "source": [
    "bin (4)"
   ]
  },
  {
   "cell_type": "code",
   "execution_count": 20,
   "id": "2d2cb0fd-ad63-421d-a466-038a81139d14",
   "metadata": {},
   "outputs": [
    {
     "data": {
      "text/plain": [
       "'0b100011000'"
      ]
     },
     "execution_count": 20,
     "metadata": {},
     "output_type": "execute_result"
    }
   ],
   "source": [
    "bin (280)"
   ]
  },
  {
   "cell_type": "code",
   "execution_count": 2,
   "id": "b279c87a-429f-475b-8fbf-bf0054768cec",
   "metadata": {},
   "outputs": [
    {
     "name": "stdout",
     "output_type": "stream",
     "text": [
      "['False', 'None', 'True', 'and', 'as', 'assert', 'async', 'await', 'break', 'class', 'continue', 'def', 'del', 'elif', 'else', 'except', 'finally', 'for', 'from', 'global', 'if', 'import', 'in', 'is', 'lambda', 'nonlocal', 'not', 'or', 'pass', 'raise', 'return', 'try', 'while', 'with', 'yield']\n"
     ]
    }
   ],
   "source": [
    "import keyword \n",
    "print(keyword.kwlist)"
   ]
  },
  {
   "cell_type": "code",
   "execution_count": 3,
   "id": "73960783-b7a5-40c0-88c7-d233ba1b74c8",
   "metadata": {},
   "outputs": [
    {
     "ename": "SyntaxError",
     "evalue": "invalid syntax (775074133.py, line 1)",
     "output_type": "error",
     "traceback": [
      "\u001b[1;36m  Cell \u001b[1;32mIn[3], line 1\u001b[1;36m\u001b[0m\n\u001b[1;33m    help'keywords'\u001b[0m\n\u001b[1;37m        ^\u001b[0m\n\u001b[1;31mSyntaxError\u001b[0m\u001b[1;31m:\u001b[0m invalid syntax\n"
     ]
    }
   ],
   "source": [
    "help'keywords'"
   ]
  },
  {
   "cell_type": "code",
   "execution_count": 4,
   "id": "468f7b28-b63f-414c-b95e-a7e066c227ab",
   "metadata": {},
   "outputs": [
    {
     "name": "stdout",
     "output_type": "stream",
     "text": [
      "\n",
      "Here is a list of the Python keywords.  Enter any keyword to get more help.\n",
      "\n",
      "False               class               from                or\n",
      "None                continue            global              pass\n",
      "True                def                 if                  raise\n",
      "and                 del                 import              return\n",
      "as                  elif                in                  try\n",
      "assert              else                is                  while\n",
      "async               except              lambda              with\n",
      "await               finally             nonlocal            yield\n",
      "break               for                 not                 \n",
      "\n"
     ]
    }
   ],
   "source": [
    "help('keywords')"
   ]
  },
  {
   "cell_type": "code",
   "execution_count": 5,
   "id": "46b8f8d5-6c8e-48bf-a31a-774800c598c0",
   "metadata": {},
   "outputs": [
    {
     "ename": "NameError",
     "evalue": "name 'false' is not defined",
     "output_type": "error",
     "traceback": [
      "\u001b[1;31m---------------------------------------------------------------------------\u001b[0m",
      "\u001b[1;31mNameError\u001b[0m                                 Traceback (most recent call last)",
      "Cell \u001b[1;32mIn[5], line 1\u001b[0m\n\u001b[1;32m----> 1\u001b[0m \u001b[43mfalse\u001b[49m\n",
      "\u001b[1;31mNameError\u001b[0m: name 'false' is not defined"
     ]
    }
   ],
   "source": [
    "false"
   ]
  },
  {
   "cell_type": "code",
   "execution_count": 6,
   "id": "742f2978-c05a-4ece-970d-4f4d64e08b65",
   "metadata": {},
   "outputs": [
    {
     "name": "stdout",
     "output_type": "stream",
     "text": [
      "No Python documentation found for 'true'.\n",
      "Use help() to get the interactive help utility.\n",
      "Use help(str) for help on the str class.\n",
      "\n"
     ]
    }
   ],
   "source": [
    "help (\"true\")"
   ]
  },
  {
   "cell_type": "code",
   "execution_count": 7,
   "id": "17555ec6-d1f0-435d-9469-ab534c33e815",
   "metadata": {},
   "outputs": [
    {
     "ename": "SyntaxError",
     "evalue": "invalid syntax (3342458202.py, line 1)",
     "output_type": "error",
     "traceback": [
      "\u001b[1;36m  Cell \u001b[1;32mIn[7], line 1\u001b[1;36m\u001b[0m\n\u001b[1;33m    help (continue)\u001b[0m\n\u001b[1;37m          ^\u001b[0m\n\u001b[1;31mSyntaxError\u001b[0m\u001b[1;31m:\u001b[0m invalid syntax\n"
     ]
    }
   ],
   "source": [
    "help (continue)"
   ]
  },
  {
   "cell_type": "code",
   "execution_count": 8,
   "id": "9f3bedbc-309f-4352-aac2-07b901abe07f",
   "metadata": {},
   "outputs": [
    {
     "name": "stdout",
     "output_type": "stream",
     "text": [
      "The \"continue\" statement\n",
      "************************\n",
      "\n",
      "   continue_stmt ::= \"continue\"\n",
      "\n",
      "\"continue\" may only occur syntactically nested in a \"for\" or \"while\"\n",
      "loop, but not nested in a function or class definition within that\n",
      "loop.  It continues with the next cycle of the nearest enclosing loop.\n",
      "\n",
      "When \"continue\" passes control out of a \"try\" statement with a\n",
      "\"finally\" clause, that \"finally\" clause is executed before really\n",
      "starting the next loop cycle.\n",
      "\n",
      "Related help topics: while, for\n",
      "\n"
     ]
    }
   ],
   "source": [
    "help ('continue')"
   ]
  },
  {
   "cell_type": "code",
   "execution_count": 9,
   "id": "35743eb7-cc5d-498b-abc6-caec13039138",
   "metadata": {},
   "outputs": [
    {
     "name": "stdout",
     "output_type": "stream",
     "text": [
      "No Python documentation found for 'true'.\n",
      "Use help() to get the interactive help utility.\n",
      "Use help(str) for help on the str class.\n",
      "\n"
     ]
    }
   ],
   "source": [
    "help ('true')"
   ]
  },
  {
   "cell_type": "code",
   "execution_count": 10,
   "id": "e5fc458d-ec1f-42f5-879f-129ad749f09b",
   "metadata": {},
   "outputs": [
    {
     "name": "stdout",
     "output_type": "stream",
     "text": [
      "Await expression\n",
      "****************\n",
      "\n",
      "Suspend the execution of *coroutine* on an *awaitable* object. Can\n",
      "only be used inside a *coroutine function*.\n",
      "\n",
      "   await_expr ::= \"await\" primary\n",
      "\n",
      "Added in version 3.5.\n",
      "\n"
     ]
    }
   ],
   "source": [
    "help ('await')"
   ]
  },
  {
   "cell_type": "code",
   "execution_count": 11,
   "id": "cd2607cf-e635-4c30-bc49-4ab6b05f80fd",
   "metadata": {},
   "outputs": [
    {
     "name": "stdout",
     "output_type": "stream",
     "text": [
      "The \"import\" statement\n",
      "**********************\n",
      "\n",
      "   import_stmt     ::= \"import\" module [\"as\" identifier] (\",\" module [\"as\" identifier])*\n",
      "                   | \"from\" relative_module \"import\" identifier [\"as\" identifier]\n",
      "                   (\",\" identifier [\"as\" identifier])*\n",
      "                   | \"from\" relative_module \"import\" \"(\" identifier [\"as\" identifier]\n",
      "                   (\",\" identifier [\"as\" identifier])* [\",\"] \")\"\n",
      "                   | \"from\" relative_module \"import\" \"*\"\n",
      "   module          ::= (identifier \".\")* identifier\n",
      "   relative_module ::= \".\"* module | \".\"+\n",
      "\n",
      "The basic import statement (no \"from\" clause) is executed in two\n",
      "steps:\n",
      "\n",
      "1. find a module, loading and initializing it if necessary\n",
      "\n",
      "2. define a name or names in the local namespace for the scope where\n",
      "   the \"import\" statement occurs.\n",
      "\n",
      "When the statement contains multiple clauses (separated by commas) the\n",
      "two steps are carried out separately for each clause, just as though\n",
      "the clauses had been separated out into individual import statements.\n",
      "\n",
      "The details of the first step, finding and loading modules, are\n",
      "described in greater detail in the section on the import system, which\n",
      "also describes the various types of packages and modules that can be\n",
      "imported, as well as all the hooks that can be used to customize the\n",
      "import system. Note that failures in this step may indicate either\n",
      "that the module could not be located, *or* that an error occurred\n",
      "while initializing the module, which includes execution of the\n",
      "module’s code.\n",
      "\n",
      "If the requested module is retrieved successfully, it will be made\n",
      "available in the local namespace in one of three ways:\n",
      "\n",
      "* If the module name is followed by \"as\", then the name following \"as\"\n",
      "  is bound directly to the imported module.\n",
      "\n",
      "* If no other name is specified, and the module being imported is a\n",
      "  top level module, the module’s name is bound in the local namespace\n",
      "  as a reference to the imported module\n",
      "\n",
      "* If the module being imported is *not* a top level module, then the\n",
      "  name of the top level package that contains the module is bound in\n",
      "  the local namespace as a reference to the top level package. The\n",
      "  imported module must be accessed using its full qualified name\n",
      "  rather than directly\n",
      "\n",
      "The \"from\" form uses a slightly more complex process:\n",
      "\n",
      "1. find the module specified in the \"from\" clause, loading and\n",
      "   initializing it if necessary;\n",
      "\n",
      "2. for each of the identifiers specified in the \"import\" clauses:\n",
      "\n",
      "   1. check if the imported module has an attribute by that name\n",
      "\n",
      "   2. if not, attempt to import a submodule with that name and then\n",
      "      check the imported module again for that attribute\n",
      "\n",
      "   3. if the attribute is not found, \"ImportError\" is raised.\n",
      "\n",
      "   4. otherwise, a reference to that value is stored in the local\n",
      "      namespace, using the name in the \"as\" clause if it is present,\n",
      "      otherwise using the attribute name\n",
      "\n",
      "Examples:\n",
      "\n",
      "   import foo                 # foo imported and bound locally\n",
      "   import foo.bar.baz         # foo, foo.bar, and foo.bar.baz imported, foo bound locally\n",
      "   import foo.bar.baz as fbb  # foo, foo.bar, and foo.bar.baz imported, foo.bar.baz bound as fbb\n",
      "   from foo.bar import baz    # foo, foo.bar, and foo.bar.baz imported, foo.bar.baz bound as baz\n",
      "   from foo import attr       # foo imported and foo.attr bound as attr\n",
      "\n",
      "If the list of identifiers is replaced by a star (\"'*'\"), all public\n",
      "names defined in the module are bound in the local namespace for the\n",
      "scope where the \"import\" statement occurs.\n",
      "\n",
      "The *public names* defined by a module are determined by checking the\n",
      "module’s namespace for a variable named \"__all__\"; if defined, it must\n",
      "be a sequence of strings which are names defined or imported by that\n",
      "module.  The names given in \"__all__\" are all considered public and\n",
      "are required to exist.  If \"__all__\" is not defined, the set of public\n",
      "names includes all names found in the module’s namespace which do not\n",
      "begin with an underscore character (\"'_'\").  \"__all__\" should contain\n",
      "the entire public API. It is intended to avoid accidentally exporting\n",
      "items that are not part of the API (such as library modules which were\n",
      "imported and used within the module).\n",
      "\n",
      "The wild card form of import — \"from module import *\" — is only\n",
      "allowed at the module level.  Attempting to use it in class or\n",
      "function definitions will raise a \"SyntaxError\".\n",
      "\n",
      "When specifying what module to import you do not have to specify the\n",
      "absolute name of the module. When a module or package is contained\n",
      "within another package it is possible to make a relative import within\n",
      "the same top package without having to mention the package name. By\n",
      "using leading dots in the specified module or package after \"from\" you\n",
      "can specify how high to traverse up the current package hierarchy\n",
      "without specifying exact names. One leading dot means the current\n",
      "package where the module making the import exists. Two dots means up\n",
      "one package level. Three dots is up two levels, etc. So if you execute\n",
      "\"from . import mod\" from a module in the \"pkg\" package then you will\n",
      "end up importing \"pkg.mod\". If you execute \"from ..subpkg2 import mod\"\n",
      "from within \"pkg.subpkg1\" you will import \"pkg.subpkg2.mod\". The\n",
      "specification for relative imports is contained in the Package\n",
      "Relative Imports section.\n",
      "\n",
      "\"importlib.import_module()\" is provided to support applications that\n",
      "determine dynamically the modules to be loaded.\n",
      "\n",
      "Raises an auditing event \"import\" with arguments \"module\", \"filename\",\n",
      "\"sys.path\", \"sys.meta_path\", \"sys.path_hooks\".\n",
      "\n",
      "\n",
      "Future statements\n",
      "=================\n",
      "\n",
      "A *future statement* is a directive to the compiler that a particular\n",
      "module should be compiled using syntax or semantics that will be\n",
      "available in a specified future release of Python where the feature\n",
      "becomes standard.\n",
      "\n",
      "The future statement is intended to ease migration to future versions\n",
      "of Python that introduce incompatible changes to the language.  It\n",
      "allows use of the new features on a per-module basis before the\n",
      "release in which the feature becomes standard.\n",
      "\n",
      "   future_stmt ::= \"from\" \"__future__\" \"import\" feature [\"as\" identifier]\n",
      "                   (\",\" feature [\"as\" identifier])*\n",
      "                   | \"from\" \"__future__\" \"import\" \"(\" feature [\"as\" identifier]\n",
      "                   (\",\" feature [\"as\" identifier])* [\",\"] \")\"\n",
      "   feature     ::= identifier\n",
      "\n",
      "A future statement must appear near the top of the module.  The only\n",
      "lines that can appear before a future statement are:\n",
      "\n",
      "* the module docstring (if any),\n",
      "\n",
      "* comments,\n",
      "\n",
      "* blank lines, and\n",
      "\n",
      "* other future statements.\n",
      "\n",
      "The only feature that requires using the future statement is\n",
      "\"annotations\" (see **PEP 563**).\n",
      "\n",
      "All historical features enabled by the future statement are still\n",
      "recognized by Python 3.  The list includes \"absolute_import\",\n",
      "\"division\", \"generators\", \"generator_stop\", \"unicode_literals\",\n",
      "\"print_function\", \"nested_scopes\" and \"with_statement\".  They are all\n",
      "redundant because they are always enabled, and only kept for backwards\n",
      "compatibility.\n",
      "\n",
      "A future statement is recognized and treated specially at compile\n",
      "time: Changes to the semantics of core constructs are often\n",
      "implemented by generating different code.  It may even be the case\n",
      "that a new feature introduces new incompatible syntax (such as a new\n",
      "reserved word), in which case the compiler may need to parse the\n",
      "module differently.  Such decisions cannot be pushed off until\n",
      "runtime.\n",
      "\n",
      "For any given release, the compiler knows which feature names have\n",
      "been defined, and raises a compile-time error if a future statement\n",
      "contains a feature not known to it.\n",
      "\n",
      "The direct runtime semantics are the same as for any import statement:\n",
      "there is a standard module \"__future__\", described later, and it will\n",
      "be imported in the usual way at the time the future statement is\n",
      "executed.\n",
      "\n",
      "The interesting runtime semantics depend on the specific feature\n",
      "enabled by the future statement.\n",
      "\n",
      "Note that there is nothing special about the statement:\n",
      "\n",
      "   import __future__ [as name]\n",
      "\n",
      "That is not a future statement; it’s an ordinary import statement with\n",
      "no special semantics or syntax restrictions.\n",
      "\n",
      "Code compiled by calls to the built-in functions \"exec()\" and\n",
      "\"compile()\" that occur in a module \"M\" containing a future statement\n",
      "will, by default, use the new syntax or semantics associated with the\n",
      "future statement.  This can be controlled by optional arguments to\n",
      "\"compile()\" — see the documentation of that function for details.\n",
      "\n",
      "A future statement typed at an interactive interpreter prompt will\n",
      "take effect for the rest of the interpreter session.  If an\n",
      "interpreter is started with the \"-i\" option, is passed a script name\n",
      "to execute, and the script includes a future statement, it will be in\n",
      "effect in the interactive session started after the script is\n",
      "executed.\n",
      "\n",
      "See also:\n",
      "\n",
      "  **PEP 236** - Back to the __future__\n",
      "     The original proposal for the __future__ mechanism.\n",
      "\n",
      "Related help topics: MODULES\n",
      "\n"
     ]
    }
   ],
   "source": [
    "help ('import')"
   ]
  },
  {
   "cell_type": "code",
   "execution_count": 14,
   "id": "3215c156-f919-49b2-a6b6-f60d46c595a9",
   "metadata": {},
   "outputs": [
    {
     "ename": "SyntaxError",
     "evalue": "invalid syntax (2546848273.py, line 6)",
     "output_type": "error",
     "traceback": [
      "\u001b[1;36m  Cell \u001b[1;32mIn[14], line 6\u001b[1;36m\u001b[0m\n\u001b[1;33m    else:\u001b[0m\n\u001b[1;37m    ^\u001b[0m\n\u001b[1;31mSyntaxError\u001b[0m\u001b[1;31m:\u001b[0m invalid syntax\n"
     ]
    }
   ],
   "source": [
    "is_vip = true\n",
    "age = 70\n",
    "if is_vip:\n",
    "    if age < 65:\n",
    "        print (\"welcome to vip customer\")\n",
    "        else:\n",
    "            print(\"you are vip and very important but you are senior citizen\")\n",
    "    else:\n",
    "        print(\"vip status only for adults\") \n",
    "else:\n",
    "       print(\"your are not a vip customer and will be charged a regular price\")"
   ]
  },
  {
   "cell_type": "code",
   "execution_count": 15,
   "id": "f28ab221-d63d-4eb9-b916-790105fd8599",
   "metadata": {},
   "outputs": [
    {
     "name": "stdin",
     "output_type": "stream",
     "text": [
      "enter a no 10\n"
     ]
    }
   ],
   "source": [
    "a= input(\"enter a no\")\n"
   ]
  },
  {
   "cell_type": "code",
   "execution_count": 16,
   "id": "fde50e10-8649-43b9-9b29-6342a32e8c3e",
   "metadata": {},
   "outputs": [
    {
     "data": {
      "text/plain": [
       "str"
      ]
     },
     "execution_count": 16,
     "metadata": {},
     "output_type": "execute_result"
    }
   ],
   "source": [
    "type(a)"
   ]
  },
  {
   "cell_type": "code",
   "execution_count": 17,
   "id": "91a731e0-faba-4a02-90b4-8164f18220d2",
   "metadata": {},
   "outputs": [
    {
     "name": "stdout",
     "output_type": "stream",
     "text": [
      "a\n"
     ]
    }
   ],
   "source": [
    "print (\"a\")"
   ]
  },
  {
   "cell_type": "code",
   "execution_count": 1,
   "id": "8bde3075-8103-4712-8469-80a460db3eda",
   "metadata": {},
   "outputs": [
    {
     "ename": "IndentationError",
     "evalue": "expected an indented block after 'if' statement on line 5 (3660721750.py, line 6)",
     "output_type": "error",
     "traceback": [
      "\u001b[1;36m  Cell \u001b[1;32mIn[1], line 6\u001b[1;36m\u001b[0m\n\u001b[1;33m    print (\"welcome to vip customer\")\u001b[0m\n\u001b[1;37m    ^\u001b[0m\n\u001b[1;31mIndentationError\u001b[0m\u001b[1;31m:\u001b[0m expected an indented block after 'if' statement on line 5\n"
     ]
    }
   ],
   "source": [
    "is_vip = true\n",
    "age = 70\n",
    "if is_vip:\n",
    "    if age >=18:\n",
    "        if age < 65:\n",
    "        print (\"welcome to vip customer\")\n",
    "else:\n",
    "    print(\"you are vip and very important but you are senior citizen\")\n",
    "else:\n",
    "    print(\"vip status only for adults\") \n",
    "else:\n",
    "    print(\"your are not a vip customer and will be charged a regular price\")"
   ]
  },
  {
   "cell_type": "code",
   "execution_count": null,
   "id": "0b673873-4d3e-4bbd-b430-97634ff3ab8f",
   "metadata": {},
   "outputs": [],
   "source": []
  }
 ],
 "metadata": {
  "kernelspec": {
   "display_name": "Python 3 (ipykernel)",
   "language": "python",
   "name": "python3"
  },
  "language_info": {
   "codemirror_mode": {
    "name": "ipython",
    "version": 3
   },
   "file_extension": ".py",
   "mimetype": "text/x-python",
   "name": "python",
   "nbconvert_exporter": "python",
   "pygments_lexer": "ipython3",
   "version": "3.12.7"
  }
 },
 "nbformat": 4,
 "nbformat_minor": 5
}
