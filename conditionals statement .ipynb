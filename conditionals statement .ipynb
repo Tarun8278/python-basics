{
 "cells": [
  {
   "cell_type": "code",
   "execution_count": 1,
   "id": "986081c2-5e87-42e7-a1ee-89f67e000ca9",
   "metadata": {},
   "outputs": [],
   "source": [
    "#conditional statements >> helps you to code decisions based on some pereconditions\n",
    "#if\n",
    "#if else\n",
    "#if elif(elseif) else\n",
    "#nasted if else"
   ]
  },
  {
   "cell_type": "code",
   "execution_count": 2,
   "id": "2c4f80cc-94b0-4383-b023-aba6198c079e",
   "metadata": {},
   "outputs": [],
   "source": [
    "#if statements\n",
    "#syntax\n",
    "# if condition true\n",
    "#   bloack of code will be executed"
   ]
  },
  {
   "cell_type": "code",
   "execution_count": 3,
   "id": "f125cfa4-08b0-40cd-b29e-e0ba816cc774",
   "metadata": {},
   "outputs": [
    {
     "data": {
      "text/plain": [
       "False"
      ]
     },
     "execution_count": 3,
     "metadata": {},
     "output_type": "execute_result"
    }
   ],
   "source": [
    "3>4"
   ]
  },
  {
   "cell_type": "code",
   "execution_count": 4,
   "id": "654cc641-d11b-411a-8c8b-fc9db170fdba",
   "metadata": {},
   "outputs": [
    {
     "data": {
      "text/plain": [
       "True"
      ]
     },
     "execution_count": 4,
     "metadata": {},
     "output_type": "execute_result"
    }
   ],
   "source": [
    "1<2"
   ]
  },
  {
   "cell_type": "code",
   "execution_count": 5,
   "id": "f17b02e7-84b4-430f-b966-5da577619a3d",
   "metadata": {},
   "outputs": [
    {
     "name": "stdout",
     "output_type": "stream",
     "text": [
      "The number is grater the 0.\n"
     ]
    }
   ],
   "source": [
    "a = 100\n",
    "if a > 0:\n",
    "    print(\"The number is grater the 0.\")"
   ]
  },
  {
   "cell_type": "code",
   "execution_count": 6,
   "id": "6842adc7-f1f4-4da9-8269-abeda60a750c",
   "metadata": {},
   "outputs": [],
   "source": [
    "a = 100\n",
    "if a < 0:       #this condition is not true\n",
    "    print(\"The number is grater the 0.\")"
   ]
  },
  {
   "cell_type": "code",
   "execution_count": 9,
   "id": "6f17e8ae-4fc8-4a34-b817-60e0093ca13e",
   "metadata": {},
   "outputs": [
    {
     "name": "stdout",
     "output_type": "stream",
     "text": [
      "the number is even\n"
     ]
    }
   ],
   "source": [
    "number = 444\n",
    "if number % 2 ==0:\n",
    "    print ('the number is even')"
   ]
  },
  {
   "cell_type": "code",
   "execution_count": 13,
   "id": "152a1551-5d01-49d0-ab0e-774fe60817b2",
   "metadata": {},
   "outputs": [
    {
     "name": "stdout",
     "output_type": "stream",
     "text": [
      "i will watch tv\n"
     ]
    }
   ],
   "source": [
    "weather = \"rainy\"\n",
    "if weather =='sunny':\n",
    "    print ('i will play cricket')\n",
    "else:\n",
    "    print ('i will watch tv')"
   ]
  },
  {
   "cell_type": "code",
   "execution_count": 18,
   "id": "13ccbf5f-e12c-40b5-80be-6804f20a2ca8",
   "metadata": {},
   "outputs": [
    {
     "name": "stdout",
     "output_type": "stream",
     "text": [
      "i will not leave the home \n"
     ]
    }
   ],
   "source": [
    "#if else >> execute the if block when the condition is true , condition is not true execute the else block\n",
    "sachin = 'not visit the home'\n",
    "if sachin =='visit home':\n",
    "    print ('i am going to riding')\n",
    "else:\n",
    "    print ('i will not leave the home ')"
   ]
  },
  {
   "cell_type": "code",
   "execution_count": 21,
   "id": "7157ff10-60ea-41a5-8f6c-0823e22a2024",
   "metadata": {},
   "outputs": [
    {
     "name": "stdout",
     "output_type": "stream",
     "text": [
      "fail\n"
     ]
    }
   ],
   "source": [
    "score = 32\n",
    "if score >= 33:\n",
    "    print ('passed')\n",
    "else:\n",
    "    print ('fail')"
   ]
  },
  {
   "cell_type": "code",
   "execution_count": null,
   "id": "e753951d-d26e-4b13-967e-cc81d9a322dd",
   "metadata": {},
   "outputs": [],
   "source": [
    "#if else >> two conditions\n",
    "#in real life multiple conditions\n",
    "#syntx\n",
    "#if >> some conditions\n",
    "#elif >> some conditions >> use to multiple conditions\n",
    "#else"
   ]
  },
  {
   "cell_type": "code",
   "execution_count": 29,
   "id": "4d96eee0-79a5-4c94-bceb-db953f1b5902",
   "metadata": {},
   "outputs": [
    {
     "name": "stdout",
     "output_type": "stream",
     "text": [
      "this block less then 100\n"
     ]
    }
   ],
   "source": [
    "a = 20000\n",
    "if a > 100:\n",
    "    print('this block is grater than 100')\n",
    "elif a <  100:\n",
    "    print('this block less then 100')\n",
    "elif a > 2000:\n",
    "    print('this block is huge')\n",
    "else:\n",
    "    print('the number is eqal to 100')"
   ]
  },
  {
   "cell_type": "code",
   "execution_count": 30,
   "id": "fe5a39c5-b840-4ae7-9f64-493c8cc61a7d",
   "metadata": {},
   "outputs": [
    {
     "name": "stdout",
     "output_type": "stream",
     "text": [
      "this block is huge\n"
     ]
    }
   ],
   "source": [
    "a = 20000\n",
    "if a <  100:\n",
    "    print('this block less then 100')\n",
    "elif a > 2000:\n",
    "    print('this block is huge')\n",
    "elif a > 100:\n",
    "    print('this block is grater than 100')\n",
    "else:\n",
    "    print('the number is eqal to 100')"
   ]
  },
  {
   "cell_type": "code",
   "execution_count": 61,
   "id": "f6e70f87-ca2f-407f-8a25-a0f8a3a3463a",
   "metadata": {},
   "outputs": [
    {
     "name": "stdout",
     "output_type": "stream",
     "text": [
      "Grade D\n"
     ]
    }
   ],
   "source": [
    "score = 30\n",
    "if score >= 90:\n",
    "    print('grade A')\n",
    "elif (80<=score<90):\n",
    "    print('grade B')\n",
    "elif (70<=score<80):\n",
    "    print('grade C')\n",
    "else:\n",
    "    print('Grade D')"
   ]
  },
  {
   "cell_type": "code",
   "execution_count": 3,
   "id": "f7d624c5-dc68-4f62-8f55-2c42ea59008d",
   "metadata": {},
   "outputs": [
    {
     "name": "stdout",
     "output_type": "stream",
     "text": [
      "you re not vip customer\n"
     ]
    }
   ],
   "source": [
    "is_vip = False\n",
    "age = 15\n",
    "if is_vip:\n",
    "    if age >= 18:\n",
    "        if age <65:\n",
    "            print ('welcome to vip customer')\n",
    "        else:\n",
    "            print ('you are senior citizen')\n",
    "    else:\n",
    "        print ('vip status is only for adult')\n",
    "else:\n",
    "    print('you re not vip customer')\n",
    "        "
   ]
  },
  {
   "cell_type": "code",
   "execution_count": 6,
   "id": "3ce7f969-ccb1-463c-8ddb-22e245e9292b",
   "metadata": {},
   "outputs": [
    {
     "name": "stdin",
     "output_type": "stream",
     "text": [
      "name tarun\n",
      "address ward 04\n"
     ]
    }
   ],
   "source": [
    "Name = input ('name')\n",
    "addresh = input ('address')"
   ]
  },
  {
   "cell_type": "code",
   "execution_count": 7,
   "id": "bf9d7ca7-344f-430a-ab90-1bf94a25d3fc",
   "metadata": {},
   "outputs": [
    {
     "name": "stdin",
     "output_type": "stream",
     "text": [
      "enter a no 10\n"
     ]
    },
    {
     "name": "stdout",
     "output_type": "stream",
     "text": [
      "the no is 10\n"
     ]
    }
   ],
   "source": [
    "a = input('enter a no')    # by default input treats is strig and change into int\n",
    "print ('the no is',a)      # a = int(input('enter a no'))"
   ]
  },
  {
   "cell_type": "code",
   "execution_count": 10,
   "id": "402a3e8f-c2ff-44af-bce7-88caf683f5bd",
   "metadata": {},
   "outputs": [
    {
     "name": "stdin",
     "output_type": "stream",
     "text": [
      "enter a no -6\n"
     ]
    },
    {
     "name": "stdout",
     "output_type": "stream",
     "text": [
      "this is a negative no\n"
     ]
    }
   ],
   "source": [
    "a = int(input('enter a no'))\n",
    "if a >= 100:\n",
    "    print ('grater the 100')\n",
    "elif 0<=a<100:\n",
    "    print ('grater the 0 and less then 100')\n",
    "else:\n",
    "    print('this is a negative no')"
   ]
  },
  {
   "cell_type": "code",
   "execution_count": 2,
   "id": "35fd42a8-0c09-4ae2-999d-87f41f9b1fec",
   "metadata": {},
   "outputs": [
    {
     "name": "stdin",
     "output_type": "stream",
     "text": [
      "please enter your name tarun\n",
      "please enter your email saini@\n",
      "please enter your password 46sdd\n"
     ]
    },
    {
     "name": "stdout",
     "output_type": "stream",
     "text": [
      "log in succesfully\n"
     ]
    }
   ],
   "source": [
    "Name = input('please enter your name')\n",
    "email = input('please enter your email')\n",
    "password = input('please enter your password')\n",
    "\n",
    "if Name == (''):\n",
    "    print('please enter a valid name, can not be empty')\n",
    "else:\n",
    "    if '@' not in email:\n",
    "        print ('please enter a vali email')\n",
    "    else:\n",
    "        if len (password)<0:\n",
    "            print('no password entered pls provide a valid password')\n",
    "        else:\n",
    "            print('log in succesfully') \n",
    "    \n",
    "    "
   ]
  },
  {
   "cell_type": "code",
   "execution_count": null,
   "id": "26ce97ae-9825-46df-88fe-c3e0a416ef06",
   "metadata": {},
   "outputs": [],
   "source": []
  }
 ],
 "metadata": {
  "kernelspec": {
   "display_name": "Python 3 (ipykernel)",
   "language": "python",
   "name": "python3"
  },
  "language_info": {
   "codemirror_mode": {
    "name": "ipython",
    "version": 3
   },
   "file_extension": ".py",
   "mimetype": "text/x-python",
   "name": "python",
   "nbconvert_exporter": "python",
   "pygments_lexer": "ipython3",
   "version": "3.12.7"
  }
 },
 "nbformat": 4,
 "nbformat_minor": 5
}
